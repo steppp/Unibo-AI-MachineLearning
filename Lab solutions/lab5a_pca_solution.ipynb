{
  "cells": [
    {
      "cell_type": "markdown",
      "metadata": {},
      "source": [
        "# In fase di perfezionamento"
      ]
    },
    {
      "cell_type": "markdown",
      "metadata": {},
      "source": [
        "# Machine Learning lab - 05 - Data Reduction\n",
        "Source:\n",
        "- Tabular Playground Series - Jun 2021\n",
        "- https://www.kaggle.com/competitions/tabular-playground-series-jun-2021\n",
        "\n",
        "We have available two data files, `train.csv` and `test.csv`. The first one will be used to find the best classification models for some performance measures, the second one is unsupervised, we will make the predictions for it using the best model and save it into a new file.\n",
        "\n",
        "## Unsupervised attribute selection\n",
        "\n",
        "Workflow:\n",
        "\n",
        "1. load `train.csv` and do some exploration (the number of columns is a bit large, avoid using `pairplots`, it would be very slow and undreadable)\n",
        "2. cancel useless columns, if any, use as target the `target` column, separate predicting from target into `X_full` and `y`\n",
        "3. Try unsupervised attribute selection: use `PCA` to keep only the transformed features able to explain, cumulatively, 90% of the total variance\n",
        "4. store in X the remaining, transformed variables\n",
        "5. split the X and y data into __train__ and __test__; since the file is quite large, for a faster development use not more than 2000 rows for training, and the remaining for testing\n",
        "6. show two pie charts of the distribution of classes into `y_train` and `y_test` to verify if they are similar\n",
        "7. optimize with `GridSearchCV` DecistionTree and RandomForest, using two different measures: `accuracy` and `f1_macro`\n",
        "8. show the confusion matrices of the best model for `accuracy` and `f1_macro` and comment the differences\n",
        "9. For the final test, upload the file `test.csv`, apply the same data reduction applied to `train.csv`,\n",
        "10. make the prediction using the models previously optimized\n",
        "11. show the confusion matrices and comment the comparison with the ones previously generated"
      ]
    },
    {
      "cell_type": "code",
      "execution_count": 1,
      "id": "804a1e82",
      "metadata": {
        "id": "804a1e82"
      },
      "outputs": [],
      "source": [
        "#Tabular Playground Series - Jun 2021\n",
        "#https://www.kaggle.com/competitions/tabular-playground-series-jun-2021\n",
        "\n",
        "\n",
        "import warnings\n",
        "warnings.filterwarnings('ignore') # uncomment this line to suppress warnings\n",
        "\n",
        "import pandas as pd\n",
        "import numpy as np\n",
        "import matplotlib.pyplot as plt\n",
        "from sklearn import datasets\n",
        "from sklearn.model_selection import train_test_split, GridSearchCV, StratifiedKFold\n",
        "from sklearn.metrics import classification_report, ConfusionMatrixDisplay\n",
        "from sklearn.svm import SVC\n",
        "from sklearn.linear_model import Perceptron\n",
        "from sklearn.neural_network import MLPClassifier\n",
        "from sklearn.tree import DecisionTreeClassifier\n",
        "from sklearn.naive_bayes import GaussianNB\n",
        "from sklearn.neighbors import KNeighborsClassifier\n",
        "from sklearn.ensemble import AdaBoostClassifier, RandomForestClassifier\n",
        "from sklearn.decomposition import PCA\n",
        "from sklearn.preprocessing import LabelEncoder"
      ]
    },
    {
      "cell_type": "code",
      "execution_count": 2,
      "id": "KMfku5eXOQcW",
      "metadata": {
        "colab": {
          "base_uri": "https://localhost:8080/"
        },
        "id": "KMfku5eXOQcW",
        "outputId": "7d0d4e59-8ca8-41c2-dda5-ee54b331a85d"
      },
      "outputs": [],
      "source": [
        "# from google.colab import drive\n",
        "# drive.mount('/content/drive')"
      ]
    },
    {
      "cell_type": "code",
      "execution_count": 28,
      "id": "P2BVtJnLOl1m",
      "metadata": {
        "id": "P2BVtJnLOl1m"
      },
      "outputs": [],
      "source": [
        "# google_drive_path = '/content/drive/MyDrive/Colab Notebooks/'\n",
        "file_path = \"lab5-data/\""
      ]
    },
    {
      "cell_type": "code",
      "execution_count": 4,
      "id": "okMNG7t2OYlB",
      "metadata": {
        "id": "okMNG7t2OYlB"
      },
      "outputs": [],
      "source": [
        "# !ls /content/drive/MyDrive/Colab\\ Notebooks"
      ]
    },
    {
      "cell_type": "code",
      "execution_count": 5,
      "id": "17a4a64d",
      "metadata": {
        "colab": {
          "base_uri": "https://localhost:8080/"
        },
        "id": "17a4a64d",
        "outputId": "37760241-4ab1-4fe7-8325-b3c8c0ef514b"
      },
      "outputs": [
        {
          "name": "stdout",
          "output_type": "stream",
          "text": [
            "Shape of the training data (200000, 77)\n",
            "Shape of the test data (100000, 76)\n"
          ]
        }
      ],
      "source": [
        "\n",
        "train_size = 0.01 # train size chosen to have a few tousands of elements\n",
        "cutoff_variance = .8 # the total amount of variance explained by the selected transformed features\n",
        "cv = 5\n",
        "random_state = 42\n",
        "np.random.seed(random_state) # this sets the random sequence. Setting only this the repeatability is guaranteed\n",
        "                             # only if we re-execute the entire notebook\n",
        "\n",
        "train_ds = pd.read_csv(file_path+'train.csv')\n",
        "\n",
        "print(\"Shape of the training data {}\".format(train_ds.shape))"
      ]
    },
    {
      "cell_type": "code",
      "execution_count": 6,
      "id": "9a69fcdf",
      "metadata": {
        "colab": {
          "base_uri": "https://localhost:8080/",
          "height": 412
        },
        "id": "9a69fcdf",
        "outputId": "2a1b9d8d-db9f-4a84-9d8b-6acac711ae46"
      },
      "outputs": [
        {
          "data": {
            "text/html": [
              "<div>\n",
              "<style scoped>\n",
              "    .dataframe tbody tr th:only-of-type {\n",
              "        vertical-align: middle;\n",
              "    }\n",
              "\n",
              "    .dataframe tbody tr th {\n",
              "        vertical-align: top;\n",
              "    }\n",
              "\n",
              "    .dataframe thead th {\n",
              "        text-align: right;\n",
              "    }\n",
              "</style>\n",
              "<table border=\"1\" class=\"dataframe\">\n",
              "  <thead>\n",
              "    <tr style=\"text-align: right;\">\n",
              "      <th></th>\n",
              "      <th>id</th>\n",
              "      <th>feature_0</th>\n",
              "      <th>feature_1</th>\n",
              "      <th>feature_2</th>\n",
              "      <th>feature_3</th>\n",
              "      <th>feature_4</th>\n",
              "      <th>feature_5</th>\n",
              "      <th>feature_6</th>\n",
              "      <th>feature_7</th>\n",
              "      <th>feature_8</th>\n",
              "      <th>...</th>\n",
              "      <th>feature_66</th>\n",
              "      <th>feature_67</th>\n",
              "      <th>feature_68</th>\n",
              "      <th>feature_69</th>\n",
              "      <th>feature_70</th>\n",
              "      <th>feature_71</th>\n",
              "      <th>feature_72</th>\n",
              "      <th>feature_73</th>\n",
              "      <th>feature_74</th>\n",
              "      <th>target</th>\n",
              "    </tr>\n",
              "  </thead>\n",
              "  <tbody>\n",
              "    <tr>\n",
              "      <th>119737</th>\n",
              "      <td>119737</td>\n",
              "      <td>0</td>\n",
              "      <td>0</td>\n",
              "      <td>15</td>\n",
              "      <td>0</td>\n",
              "      <td>0</td>\n",
              "      <td>0</td>\n",
              "      <td>0</td>\n",
              "      <td>0</td>\n",
              "      <td>11</td>\n",
              "      <td>...</td>\n",
              "      <td>0</td>\n",
              "      <td>0</td>\n",
              "      <td>1</td>\n",
              "      <td>0</td>\n",
              "      <td>0</td>\n",
              "      <td>0</td>\n",
              "      <td>1</td>\n",
              "      <td>0</td>\n",
              "      <td>0</td>\n",
              "      <td>Class_3</td>\n",
              "    </tr>\n",
              "    <tr>\n",
              "      <th>72272</th>\n",
              "      <td>72272</td>\n",
              "      <td>0</td>\n",
              "      <td>0</td>\n",
              "      <td>1</td>\n",
              "      <td>0</td>\n",
              "      <td>0</td>\n",
              "      <td>1</td>\n",
              "      <td>0</td>\n",
              "      <td>0</td>\n",
              "      <td>0</td>\n",
              "      <td>...</td>\n",
              "      <td>0</td>\n",
              "      <td>0</td>\n",
              "      <td>0</td>\n",
              "      <td>0</td>\n",
              "      <td>3</td>\n",
              "      <td>0</td>\n",
              "      <td>0</td>\n",
              "      <td>0</td>\n",
              "      <td>0</td>\n",
              "      <td>Class_6</td>\n",
              "    </tr>\n",
              "    <tr>\n",
              "      <th>158154</th>\n",
              "      <td>158154</td>\n",
              "      <td>0</td>\n",
              "      <td>0</td>\n",
              "      <td>0</td>\n",
              "      <td>0</td>\n",
              "      <td>0</td>\n",
              "      <td>0</td>\n",
              "      <td>0</td>\n",
              "      <td>0</td>\n",
              "      <td>0</td>\n",
              "      <td>...</td>\n",
              "      <td>0</td>\n",
              "      <td>0</td>\n",
              "      <td>0</td>\n",
              "      <td>3</td>\n",
              "      <td>0</td>\n",
              "      <td>0</td>\n",
              "      <td>0</td>\n",
              "      <td>0</td>\n",
              "      <td>0</td>\n",
              "      <td>Class_6</td>\n",
              "    </tr>\n",
              "    <tr>\n",
              "      <th>65426</th>\n",
              "      <td>65426</td>\n",
              "      <td>6</td>\n",
              "      <td>0</td>\n",
              "      <td>0</td>\n",
              "      <td>0</td>\n",
              "      <td>0</td>\n",
              "      <td>2</td>\n",
              "      <td>0</td>\n",
              "      <td>0</td>\n",
              "      <td>0</td>\n",
              "      <td>...</td>\n",
              "      <td>3</td>\n",
              "      <td>7</td>\n",
              "      <td>2</td>\n",
              "      <td>1</td>\n",
              "      <td>0</td>\n",
              "      <td>0</td>\n",
              "      <td>0</td>\n",
              "      <td>1</td>\n",
              "      <td>1</td>\n",
              "      <td>Class_8</td>\n",
              "    </tr>\n",
              "    <tr>\n",
              "      <th>30074</th>\n",
              "      <td>30074</td>\n",
              "      <td>0</td>\n",
              "      <td>0</td>\n",
              "      <td>0</td>\n",
              "      <td>0</td>\n",
              "      <td>0</td>\n",
              "      <td>0</td>\n",
              "      <td>0</td>\n",
              "      <td>0</td>\n",
              "      <td>0</td>\n",
              "      <td>...</td>\n",
              "      <td>0</td>\n",
              "      <td>0</td>\n",
              "      <td>0</td>\n",
              "      <td>3</td>\n",
              "      <td>0</td>\n",
              "      <td>0</td>\n",
              "      <td>0</td>\n",
              "      <td>0</td>\n",
              "      <td>0</td>\n",
              "      <td>Class_1</td>\n",
              "    </tr>\n",
              "    <tr>\n",
              "      <th>23677</th>\n",
              "      <td>23677</td>\n",
              "      <td>0</td>\n",
              "      <td>0</td>\n",
              "      <td>0</td>\n",
              "      <td>0</td>\n",
              "      <td>0</td>\n",
              "      <td>0</td>\n",
              "      <td>2</td>\n",
              "      <td>0</td>\n",
              "      <td>0</td>\n",
              "      <td>...</td>\n",
              "      <td>0</td>\n",
              "      <td>0</td>\n",
              "      <td>0</td>\n",
              "      <td>0</td>\n",
              "      <td>0</td>\n",
              "      <td>0</td>\n",
              "      <td>0</td>\n",
              "      <td>0</td>\n",
              "      <td>0</td>\n",
              "      <td>Class_2</td>\n",
              "    </tr>\n",
              "    <tr>\n",
              "      <th>134858</th>\n",
              "      <td>134858</td>\n",
              "      <td>0</td>\n",
              "      <td>0</td>\n",
              "      <td>0</td>\n",
              "      <td>0</td>\n",
              "      <td>0</td>\n",
              "      <td>0</td>\n",
              "      <td>0</td>\n",
              "      <td>0</td>\n",
              "      <td>0</td>\n",
              "      <td>...</td>\n",
              "      <td>0</td>\n",
              "      <td>0</td>\n",
              "      <td>0</td>\n",
              "      <td>2</td>\n",
              "      <td>0</td>\n",
              "      <td>1</td>\n",
              "      <td>0</td>\n",
              "      <td>0</td>\n",
              "      <td>0</td>\n",
              "      <td>Class_9</td>\n",
              "    </tr>\n",
              "    <tr>\n",
              "      <th>176418</th>\n",
              "      <td>176418</td>\n",
              "      <td>0</td>\n",
              "      <td>0</td>\n",
              "      <td>0</td>\n",
              "      <td>0</td>\n",
              "      <td>0</td>\n",
              "      <td>14</td>\n",
              "      <td>0</td>\n",
              "      <td>0</td>\n",
              "      <td>0</td>\n",
              "      <td>...</td>\n",
              "      <td>0</td>\n",
              "      <td>0</td>\n",
              "      <td>1</td>\n",
              "      <td>1</td>\n",
              "      <td>1</td>\n",
              "      <td>2</td>\n",
              "      <td>0</td>\n",
              "      <td>0</td>\n",
              "      <td>0</td>\n",
              "      <td>Class_2</td>\n",
              "    </tr>\n",
              "    <tr>\n",
              "      <th>132467</th>\n",
              "      <td>132467</td>\n",
              "      <td>0</td>\n",
              "      <td>2</td>\n",
              "      <td>1</td>\n",
              "      <td>3</td>\n",
              "      <td>1</td>\n",
              "      <td>0</td>\n",
              "      <td>0</td>\n",
              "      <td>7</td>\n",
              "      <td>8</td>\n",
              "      <td>...</td>\n",
              "      <td>0</td>\n",
              "      <td>1</td>\n",
              "      <td>0</td>\n",
              "      <td>0</td>\n",
              "      <td>20</td>\n",
              "      <td>18</td>\n",
              "      <td>1</td>\n",
              "      <td>0</td>\n",
              "      <td>1</td>\n",
              "      <td>Class_8</td>\n",
              "    </tr>\n",
              "    <tr>\n",
              "      <th>4082</th>\n",
              "      <td>4082</td>\n",
              "      <td>40</td>\n",
              "      <td>0</td>\n",
              "      <td>0</td>\n",
              "      <td>0</td>\n",
              "      <td>0</td>\n",
              "      <td>0</td>\n",
              "      <td>0</td>\n",
              "      <td>2</td>\n",
              "      <td>0</td>\n",
              "      <td>...</td>\n",
              "      <td>0</td>\n",
              "      <td>1</td>\n",
              "      <td>0</td>\n",
              "      <td>0</td>\n",
              "      <td>0</td>\n",
              "      <td>0</td>\n",
              "      <td>0</td>\n",
              "      <td>0</td>\n",
              "      <td>0</td>\n",
              "      <td>Class_5</td>\n",
              "    </tr>\n",
              "  </tbody>\n",
              "</table>\n",
              "<p>10 rows × 77 columns</p>\n",
              "</div>"
            ],
            "text/plain": [
              "            id  feature_0  feature_1  feature_2  feature_3  feature_4  \\\n",
              "119737  119737          0          0         15          0          0   \n",
              "72272    72272          0          0          1          0          0   \n",
              "158154  158154          0          0          0          0          0   \n",
              "65426    65426          6          0          0          0          0   \n",
              "30074    30074          0          0          0          0          0   \n",
              "23677    23677          0          0          0          0          0   \n",
              "134858  134858          0          0          0          0          0   \n",
              "176418  176418          0          0          0          0          0   \n",
              "132467  132467          0          2          1          3          1   \n",
              "4082      4082         40          0          0          0          0   \n",
              "\n",
              "        feature_5  feature_6  feature_7  feature_8  ...  feature_66  \\\n",
              "119737          0          0          0         11  ...           0   \n",
              "72272           1          0          0          0  ...           0   \n",
              "158154          0          0          0          0  ...           0   \n",
              "65426           2          0          0          0  ...           3   \n",
              "30074           0          0          0          0  ...           0   \n",
              "23677           0          2          0          0  ...           0   \n",
              "134858          0          0          0          0  ...           0   \n",
              "176418         14          0          0          0  ...           0   \n",
              "132467          0          0          7          8  ...           0   \n",
              "4082            0          0          2          0  ...           0   \n",
              "\n",
              "        feature_67  feature_68  feature_69  feature_70  feature_71  \\\n",
              "119737           0           1           0           0           0   \n",
              "72272            0           0           0           3           0   \n",
              "158154           0           0           3           0           0   \n",
              "65426            7           2           1           0           0   \n",
              "30074            0           0           3           0           0   \n",
              "23677            0           0           0           0           0   \n",
              "134858           0           0           2           0           1   \n",
              "176418           0           1           1           1           2   \n",
              "132467           1           0           0          20          18   \n",
              "4082             1           0           0           0           0   \n",
              "\n",
              "        feature_72  feature_73  feature_74   target  \n",
              "119737           1           0           0  Class_3  \n",
              "72272            0           0           0  Class_6  \n",
              "158154           0           0           0  Class_6  \n",
              "65426            0           1           1  Class_8  \n",
              "30074            0           0           0  Class_1  \n",
              "23677            0           0           0  Class_2  \n",
              "134858           0           0           0  Class_9  \n",
              "176418           0           0           0  Class_2  \n",
              "132467           1           0           1  Class_8  \n",
              "4082             0           0           0  Class_5  \n",
              "\n",
              "[10 rows x 77 columns]"
            ]
          },
          "execution_count": 6,
          "metadata": {},
          "output_type": "execute_result"
        }
      ],
      "source": [
        "# show 10 random records\n",
        "train_ds.sample(n=10, axis=0, replace=False, random_state = random_state)"
      ]
    },
    {
      "cell_type": "code",
      "execution_count": 26,
      "id": "0050d8f1",
      "metadata": {
        "id": "0050d8f1"
      },
      "outputs": [
        {
          "data": {
            "text/html": [
              "<div>\n",
              "<style scoped>\n",
              "    .dataframe tbody tr th:only-of-type {\n",
              "        vertical-align: middle;\n",
              "    }\n",
              "\n",
              "    .dataframe tbody tr th {\n",
              "        vertical-align: top;\n",
              "    }\n",
              "\n",
              "    .dataframe thead th {\n",
              "        text-align: right;\n",
              "    }\n",
              "</style>\n",
              "<table border=\"1\" class=\"dataframe\">\n",
              "  <thead>\n",
              "    <tr style=\"text-align: right;\">\n",
              "      <th></th>\n",
              "      <th>id</th>\n",
              "      <th>feature_0</th>\n",
              "      <th>feature_1</th>\n",
              "      <th>feature_2</th>\n",
              "      <th>feature_3</th>\n",
              "      <th>feature_4</th>\n",
              "      <th>feature_5</th>\n",
              "      <th>feature_6</th>\n",
              "      <th>feature_7</th>\n",
              "      <th>feature_8</th>\n",
              "      <th>...</th>\n",
              "      <th>feature_65</th>\n",
              "      <th>feature_66</th>\n",
              "      <th>feature_67</th>\n",
              "      <th>feature_68</th>\n",
              "      <th>feature_69</th>\n",
              "      <th>feature_70</th>\n",
              "      <th>feature_71</th>\n",
              "      <th>feature_72</th>\n",
              "      <th>feature_73</th>\n",
              "      <th>feature_74</th>\n",
              "    </tr>\n",
              "  </thead>\n",
              "  <tbody>\n",
              "    <tr>\n",
              "      <th>count</th>\n",
              "      <td>200000.000000</td>\n",
              "      <td>200000.000000</td>\n",
              "      <td>200000.000000</td>\n",
              "      <td>200000.000000</td>\n",
              "      <td>200000.000000</td>\n",
              "      <td>200000.000000</td>\n",
              "      <td>200000.000000</td>\n",
              "      <td>200000.000000</td>\n",
              "      <td>200000.000000</td>\n",
              "      <td>200000.00000</td>\n",
              "      <td>...</td>\n",
              "      <td>200000.000000</td>\n",
              "      <td>200000.000000</td>\n",
              "      <td>200000.000000</td>\n",
              "      <td>200000.000000</td>\n",
              "      <td>200000.000000</td>\n",
              "      <td>200000.000000</td>\n",
              "      <td>200000.000000</td>\n",
              "      <td>200000.000000</td>\n",
              "      <td>200000.00000</td>\n",
              "      <td>200000.000000</td>\n",
              "    </tr>\n",
              "    <tr>\n",
              "      <th>mean</th>\n",
              "      <td>99999.500000</td>\n",
              "      <td>0.972710</td>\n",
              "      <td>1.168365</td>\n",
              "      <td>2.219325</td>\n",
              "      <td>2.296735</td>\n",
              "      <td>0.793530</td>\n",
              "      <td>1.431105</td>\n",
              "      <td>1.010695</td>\n",
              "      <td>0.673090</td>\n",
              "      <td>1.94398</td>\n",
              "      <td>...</td>\n",
              "      <td>1.798040</td>\n",
              "      <td>0.508695</td>\n",
              "      <td>1.827300</td>\n",
              "      <td>0.910370</td>\n",
              "      <td>1.603585</td>\n",
              "      <td>1.219210</td>\n",
              "      <td>0.806895</td>\n",
              "      <td>1.282925</td>\n",
              "      <td>2.94021</td>\n",
              "      <td>0.632005</td>\n",
              "    </tr>\n",
              "    <tr>\n",
              "      <th>std</th>\n",
              "      <td>57735.171256</td>\n",
              "      <td>3.941836</td>\n",
              "      <td>3.993407</td>\n",
              "      <td>6.476570</td>\n",
              "      <td>7.551858</td>\n",
              "      <td>2.935785</td>\n",
              "      <td>5.162746</td>\n",
              "      <td>3.949231</td>\n",
              "      <td>2.234949</td>\n",
              "      <td>3.93133</td>\n",
              "      <td>...</td>\n",
              "      <td>5.053014</td>\n",
              "      <td>1.867330</td>\n",
              "      <td>7.188924</td>\n",
              "      <td>3.835182</td>\n",
              "      <td>4.877679</td>\n",
              "      <td>4.826003</td>\n",
              "      <td>2.458741</td>\n",
              "      <td>4.261420</td>\n",
              "      <td>10.78465</td>\n",
              "      <td>3.925310</td>\n",
              "    </tr>\n",
              "    <tr>\n",
              "      <th>min</th>\n",
              "      <td>0.000000</td>\n",
              "      <td>0.000000</td>\n",
              "      <td>0.000000</td>\n",
              "      <td>0.000000</td>\n",
              "      <td>0.000000</td>\n",
              "      <td>0.000000</td>\n",
              "      <td>0.000000</td>\n",
              "      <td>0.000000</td>\n",
              "      <td>0.000000</td>\n",
              "      <td>0.00000</td>\n",
              "      <td>...</td>\n",
              "      <td>0.000000</td>\n",
              "      <td>0.000000</td>\n",
              "      <td>0.000000</td>\n",
              "      <td>0.000000</td>\n",
              "      <td>0.000000</td>\n",
              "      <td>0.000000</td>\n",
              "      <td>0.000000</td>\n",
              "      <td>0.000000</td>\n",
              "      <td>0.00000</td>\n",
              "      <td>0.000000</td>\n",
              "    </tr>\n",
              "    <tr>\n",
              "      <th>25%</th>\n",
              "      <td>49999.750000</td>\n",
              "      <td>0.000000</td>\n",
              "      <td>0.000000</td>\n",
              "      <td>0.000000</td>\n",
              "      <td>0.000000</td>\n",
              "      <td>0.000000</td>\n",
              "      <td>0.000000</td>\n",
              "      <td>0.000000</td>\n",
              "      <td>0.000000</td>\n",
              "      <td>0.00000</td>\n",
              "      <td>...</td>\n",
              "      <td>0.000000</td>\n",
              "      <td>0.000000</td>\n",
              "      <td>0.000000</td>\n",
              "      <td>0.000000</td>\n",
              "      <td>0.000000</td>\n",
              "      <td>0.000000</td>\n",
              "      <td>0.000000</td>\n",
              "      <td>0.000000</td>\n",
              "      <td>0.00000</td>\n",
              "      <td>0.000000</td>\n",
              "    </tr>\n",
              "    <tr>\n",
              "      <th>50%</th>\n",
              "      <td>99999.500000</td>\n",
              "      <td>0.000000</td>\n",
              "      <td>0.000000</td>\n",
              "      <td>0.000000</td>\n",
              "      <td>0.000000</td>\n",
              "      <td>0.000000</td>\n",
              "      <td>0.000000</td>\n",
              "      <td>0.000000</td>\n",
              "      <td>0.000000</td>\n",
              "      <td>0.00000</td>\n",
              "      <td>...</td>\n",
              "      <td>0.000000</td>\n",
              "      <td>0.000000</td>\n",
              "      <td>0.000000</td>\n",
              "      <td>0.000000</td>\n",
              "      <td>0.000000</td>\n",
              "      <td>0.000000</td>\n",
              "      <td>0.000000</td>\n",
              "      <td>0.000000</td>\n",
              "      <td>0.00000</td>\n",
              "      <td>0.000000</td>\n",
              "    </tr>\n",
              "    <tr>\n",
              "      <th>75%</th>\n",
              "      <td>149999.250000</td>\n",
              "      <td>1.000000</td>\n",
              "      <td>1.000000</td>\n",
              "      <td>1.000000</td>\n",
              "      <td>1.000000</td>\n",
              "      <td>0.000000</td>\n",
              "      <td>1.000000</td>\n",
              "      <td>0.000000</td>\n",
              "      <td>0.000000</td>\n",
              "      <td>2.00000</td>\n",
              "      <td>...</td>\n",
              "      <td>1.000000</td>\n",
              "      <td>0.000000</td>\n",
              "      <td>1.000000</td>\n",
              "      <td>1.000000</td>\n",
              "      <td>2.000000</td>\n",
              "      <td>1.000000</td>\n",
              "      <td>1.000000</td>\n",
              "      <td>1.000000</td>\n",
              "      <td>1.00000</td>\n",
              "      <td>0.000000</td>\n",
              "    </tr>\n",
              "    <tr>\n",
              "      <th>max</th>\n",
              "      <td>199999.000000</td>\n",
              "      <td>61.000000</td>\n",
              "      <td>51.000000</td>\n",
              "      <td>64.000000</td>\n",
              "      <td>70.000000</td>\n",
              "      <td>38.000000</td>\n",
              "      <td>76.000000</td>\n",
              "      <td>43.000000</td>\n",
              "      <td>30.000000</td>\n",
              "      <td>38.00000</td>\n",
              "      <td>...</td>\n",
              "      <td>54.000000</td>\n",
              "      <td>24.000000</td>\n",
              "      <td>79.000000</td>\n",
              "      <td>55.000000</td>\n",
              "      <td>65.000000</td>\n",
              "      <td>67.000000</td>\n",
              "      <td>30.000000</td>\n",
              "      <td>61.000000</td>\n",
              "      <td>130.00000</td>\n",
              "      <td>52.000000</td>\n",
              "    </tr>\n",
              "  </tbody>\n",
              "</table>\n",
              "<p>8 rows × 76 columns</p>\n",
              "</div>"
            ],
            "text/plain": [
              "                  id      feature_0      feature_1      feature_2  \\\n",
              "count  200000.000000  200000.000000  200000.000000  200000.000000   \n",
              "mean    99999.500000       0.972710       1.168365       2.219325   \n",
              "std     57735.171256       3.941836       3.993407       6.476570   \n",
              "min         0.000000       0.000000       0.000000       0.000000   \n",
              "25%     49999.750000       0.000000       0.000000       0.000000   \n",
              "50%     99999.500000       0.000000       0.000000       0.000000   \n",
              "75%    149999.250000       1.000000       1.000000       1.000000   \n",
              "max    199999.000000      61.000000      51.000000      64.000000   \n",
              "\n",
              "           feature_3      feature_4      feature_5      feature_6  \\\n",
              "count  200000.000000  200000.000000  200000.000000  200000.000000   \n",
              "mean        2.296735       0.793530       1.431105       1.010695   \n",
              "std         7.551858       2.935785       5.162746       3.949231   \n",
              "min         0.000000       0.000000       0.000000       0.000000   \n",
              "25%         0.000000       0.000000       0.000000       0.000000   \n",
              "50%         0.000000       0.000000       0.000000       0.000000   \n",
              "75%         1.000000       0.000000       1.000000       0.000000   \n",
              "max        70.000000      38.000000      76.000000      43.000000   \n",
              "\n",
              "           feature_7     feature_8  ...     feature_65     feature_66  \\\n",
              "count  200000.000000  200000.00000  ...  200000.000000  200000.000000   \n",
              "mean        0.673090       1.94398  ...       1.798040       0.508695   \n",
              "std         2.234949       3.93133  ...       5.053014       1.867330   \n",
              "min         0.000000       0.00000  ...       0.000000       0.000000   \n",
              "25%         0.000000       0.00000  ...       0.000000       0.000000   \n",
              "50%         0.000000       0.00000  ...       0.000000       0.000000   \n",
              "75%         0.000000       2.00000  ...       1.000000       0.000000   \n",
              "max        30.000000      38.00000  ...      54.000000      24.000000   \n",
              "\n",
              "          feature_67     feature_68     feature_69     feature_70  \\\n",
              "count  200000.000000  200000.000000  200000.000000  200000.000000   \n",
              "mean        1.827300       0.910370       1.603585       1.219210   \n",
              "std         7.188924       3.835182       4.877679       4.826003   \n",
              "min         0.000000       0.000000       0.000000       0.000000   \n",
              "25%         0.000000       0.000000       0.000000       0.000000   \n",
              "50%         0.000000       0.000000       0.000000       0.000000   \n",
              "75%         1.000000       1.000000       2.000000       1.000000   \n",
              "max        79.000000      55.000000      65.000000      67.000000   \n",
              "\n",
              "          feature_71     feature_72    feature_73     feature_74  \n",
              "count  200000.000000  200000.000000  200000.00000  200000.000000  \n",
              "mean        0.806895       1.282925       2.94021       0.632005  \n",
              "std         2.458741       4.261420      10.78465       3.925310  \n",
              "min         0.000000       0.000000       0.00000       0.000000  \n",
              "25%         0.000000       0.000000       0.00000       0.000000  \n",
              "50%         0.000000       0.000000       0.00000       0.000000  \n",
              "75%         1.000000       1.000000       1.00000       0.000000  \n",
              "max        30.000000      61.000000     130.00000      52.000000  \n",
              "\n",
              "[8 rows x 76 columns]"
            ]
          },
          "execution_count": 26,
          "metadata": {},
          "output_type": "execute_result"
        }
      ],
      "source": [
        "train_ds.describe()"
      ]
    },
    {
      "cell_type": "code",
      "execution_count": 8,
      "id": "c6679ce5",
      "metadata": {
        "colab": {
          "base_uri": "https://localhost:8080/"
        },
        "id": "c6679ce5",
        "outputId": "d2e79a76-49ec-416b-e47a-7b031a5e6f4c"
      },
      "outputs": [
        {
          "data": {
            "text/plain": [
              "id            200000\n",
              "feature_15       105\n",
              "feature_60        99\n",
              "feature_59        92\n",
              "feature_73        91\n",
              "feature_46        87\n",
              "feature_28        78\n",
              "feature_32        77\n",
              "feature_54        72\n",
              "feature_61        70\n",
              "feature_63        70\n",
              "feature_19        66\n",
              "feature_55        65\n",
              "feature_47        63\n",
              "feature_62        61\n",
              "feature_3         59\n",
              "feature_29        58\n",
              "feature_67        57\n",
              "feature_41        56\n",
              "feature_22        55\n",
              "feature_5         55\n",
              "feature_43        53\n",
              "feature_69        52\n",
              "feature_9         51\n",
              "feature_24        50\n",
              "feature_74        50\n",
              "feature_70        49\n",
              "feature_27        49\n",
              "feature_51        49\n",
              "feature_2         48\n",
              "dtype: int64"
            ]
          },
          "execution_count": 8,
          "metadata": {},
          "output_type": "execute_result"
        }
      ],
      "source": [
        "train_ds.nunique().sort_values(ascending=False)[:30]"
      ]
    },
    {
      "cell_type": "code",
      "execution_count": 9,
      "id": "8b5892fd",
      "metadata": {
        "id": "8b5892fd"
      },
      "outputs": [],
      "source": [
        "# train_ds['feature_15'].sort_values(ascending=False)[:20]"
      ]
    },
    {
      "cell_type": "code",
      "execution_count": 10,
      "id": "8f669a80",
      "metadata": {
        "colab": {
          "base_uri": "https://localhost:8080/"
        },
        "id": "8f669a80",
        "outputId": "89a4714c-67e8-4eda-cedd-de6a87272964"
      },
      "outputs": [
        {
          "name": "stdout",
          "output_type": "stream",
          "text": [
            "['Class_1' 'Class_2' 'Class_3' 'Class_4' 'Class_5' 'Class_6' 'Class_7'\n",
            " 'Class_8' 'Class_9']\n"
          ]
        }
      ],
      "source": [
        "target = 'target'\n",
        "classes = train_ds[target].unique()\n",
        "classes.sort()\n",
        "print(classes)"
      ]
    },
    {
      "cell_type": "code",
      "execution_count": 11,
      "id": "398f513e",
      "metadata": {
        "id": "398f513e"
      },
      "outputs": [],
      "source": [
        "le = LabelEncoder()\n",
        "y = le.fit_transform(train_ds[target])\n",
        "X_full = train_ds.drop(['id', target], axis=1)\n"
      ]
    },
    {
      "cell_type": "code",
      "execution_count": 12,
      "id": "33013a1f",
      "metadata": {
        "colab": {
          "base_uri": "https://localhost:8080/",
          "height": 255
        },
        "id": "33013a1f",
        "outputId": "144dd82c-f257-409b-d30a-d1a972675ff0"
      },
      "outputs": [
        {
          "data": {
            "text/html": [
              "<div>\n",
              "<style scoped>\n",
              "    .dataframe tbody tr th:only-of-type {\n",
              "        vertical-align: middle;\n",
              "    }\n",
              "\n",
              "    .dataframe tbody tr th {\n",
              "        vertical-align: top;\n",
              "    }\n",
              "\n",
              "    .dataframe thead th {\n",
              "        text-align: right;\n",
              "    }\n",
              "</style>\n",
              "<table border=\"1\" class=\"dataframe\">\n",
              "  <thead>\n",
              "    <tr style=\"text-align: right;\">\n",
              "      <th></th>\n",
              "      <th>feature_0</th>\n",
              "      <th>feature_1</th>\n",
              "      <th>feature_2</th>\n",
              "      <th>feature_3</th>\n",
              "      <th>feature_4</th>\n",
              "      <th>feature_5</th>\n",
              "      <th>feature_6</th>\n",
              "      <th>feature_7</th>\n",
              "      <th>feature_8</th>\n",
              "      <th>feature_9</th>\n",
              "      <th>...</th>\n",
              "      <th>feature_65</th>\n",
              "      <th>feature_66</th>\n",
              "      <th>feature_67</th>\n",
              "      <th>feature_68</th>\n",
              "      <th>feature_69</th>\n",
              "      <th>feature_70</th>\n",
              "      <th>feature_71</th>\n",
              "      <th>feature_72</th>\n",
              "      <th>feature_73</th>\n",
              "      <th>feature_74</th>\n",
              "    </tr>\n",
              "  </thead>\n",
              "  <tbody>\n",
              "    <tr>\n",
              "      <th>0</th>\n",
              "      <td>0</td>\n",
              "      <td>0</td>\n",
              "      <td>6</td>\n",
              "      <td>1</td>\n",
              "      <td>0</td>\n",
              "      <td>0</td>\n",
              "      <td>0</td>\n",
              "      <td>0</td>\n",
              "      <td>7</td>\n",
              "      <td>0</td>\n",
              "      <td>...</td>\n",
              "      <td>3</td>\n",
              "      <td>0</td>\n",
              "      <td>0</td>\n",
              "      <td>0</td>\n",
              "      <td>0</td>\n",
              "      <td>0</td>\n",
              "      <td>0</td>\n",
              "      <td>2</td>\n",
              "      <td>0</td>\n",
              "      <td>0</td>\n",
              "    </tr>\n",
              "    <tr>\n",
              "      <th>1</th>\n",
              "      <td>0</td>\n",
              "      <td>0</td>\n",
              "      <td>0</td>\n",
              "      <td>0</td>\n",
              "      <td>0</td>\n",
              "      <td>0</td>\n",
              "      <td>0</td>\n",
              "      <td>0</td>\n",
              "      <td>0</td>\n",
              "      <td>0</td>\n",
              "      <td>...</td>\n",
              "      <td>0</td>\n",
              "      <td>2</td>\n",
              "      <td>0</td>\n",
              "      <td>0</td>\n",
              "      <td>0</td>\n",
              "      <td>0</td>\n",
              "      <td>0</td>\n",
              "      <td>0</td>\n",
              "      <td>1</td>\n",
              "      <td>0</td>\n",
              "    </tr>\n",
              "    <tr>\n",
              "      <th>2</th>\n",
              "      <td>0</td>\n",
              "      <td>0</td>\n",
              "      <td>0</td>\n",
              "      <td>0</td>\n",
              "      <td>0</td>\n",
              "      <td>1</td>\n",
              "      <td>0</td>\n",
              "      <td>3</td>\n",
              "      <td>0</td>\n",
              "      <td>0</td>\n",
              "      <td>...</td>\n",
              "      <td>8</td>\n",
              "      <td>0</td>\n",
              "      <td>0</td>\n",
              "      <td>0</td>\n",
              "      <td>0</td>\n",
              "      <td>1</td>\n",
              "      <td>0</td>\n",
              "      <td>0</td>\n",
              "      <td>0</td>\n",
              "      <td>0</td>\n",
              "    </tr>\n",
              "    <tr>\n",
              "      <th>3</th>\n",
              "      <td>0</td>\n",
              "      <td>0</td>\n",
              "      <td>7</td>\n",
              "      <td>0</td>\n",
              "      <td>1</td>\n",
              "      <td>5</td>\n",
              "      <td>2</td>\n",
              "      <td>2</td>\n",
              "      <td>0</td>\n",
              "      <td>1</td>\n",
              "      <td>...</td>\n",
              "      <td>0</td>\n",
              "      <td>0</td>\n",
              "      <td>4</td>\n",
              "      <td>0</td>\n",
              "      <td>2</td>\n",
              "      <td>2</td>\n",
              "      <td>0</td>\n",
              "      <td>4</td>\n",
              "      <td>3</td>\n",
              "      <td>0</td>\n",
              "    </tr>\n",
              "    <tr>\n",
              "      <th>4</th>\n",
              "      <td>1</td>\n",
              "      <td>0</td>\n",
              "      <td>0</td>\n",
              "      <td>0</td>\n",
              "      <td>0</td>\n",
              "      <td>0</td>\n",
              "      <td>0</td>\n",
              "      <td>0</td>\n",
              "      <td>0</td>\n",
              "      <td>0</td>\n",
              "      <td>...</td>\n",
              "      <td>0</td>\n",
              "      <td>0</td>\n",
              "      <td>0</td>\n",
              "      <td>0</td>\n",
              "      <td>0</td>\n",
              "      <td>0</td>\n",
              "      <td>0</td>\n",
              "      <td>0</td>\n",
              "      <td>0</td>\n",
              "      <td>0</td>\n",
              "    </tr>\n",
              "  </tbody>\n",
              "</table>\n",
              "<p>5 rows × 75 columns</p>\n",
              "</div>"
            ],
            "text/plain": [
              "   feature_0  feature_1  feature_2  feature_3  feature_4  feature_5  \\\n",
              "0          0          0          6          1          0          0   \n",
              "1          0          0          0          0          0          0   \n",
              "2          0          0          0          0          0          1   \n",
              "3          0          0          7          0          1          5   \n",
              "4          1          0          0          0          0          0   \n",
              "\n",
              "   feature_6  feature_7  feature_8  feature_9  ...  feature_65  feature_66  \\\n",
              "0          0          0          7          0  ...           3           0   \n",
              "1          0          0          0          0  ...           0           2   \n",
              "2          0          3          0          0  ...           8           0   \n",
              "3          2          2          0          1  ...           0           0   \n",
              "4          0          0          0          0  ...           0           0   \n",
              "\n",
              "   feature_67  feature_68  feature_69  feature_70  feature_71  feature_72  \\\n",
              "0           0           0           0           0           0           2   \n",
              "1           0           0           0           0           0           0   \n",
              "2           0           0           0           1           0           0   \n",
              "3           4           0           2           2           0           4   \n",
              "4           0           0           0           0           0           0   \n",
              "\n",
              "   feature_73  feature_74  \n",
              "0           0           0  \n",
              "1           1           0  \n",
              "2           0           0  \n",
              "3           3           0  \n",
              "4           0           0  \n",
              "\n",
              "[5 rows x 75 columns]"
            ]
          },
          "execution_count": 12,
          "metadata": {},
          "output_type": "execute_result"
        }
      ],
      "source": [
        "X_full.head()"
      ]
    },
    {
      "cell_type": "code",
      "execution_count": 13,
      "id": "0fbd4ae2",
      "metadata": {
        "id": "0fbd4ae2"
      },
      "outputs": [],
      "source": [
        "model_lbls = ['dt' # decision tree\n",
        "             #,'nb' # gaussian naive bayes\n",
        "             ,'rf'   # random forest\n",
        "             #,'lp'   # linear perceptron\n",
        "             #,'svc'  # support vector\n",
        "             #,'knn'  # k nearest neighbours\n",
        "             #,'adb'  # adaboost\n",
        "            ]\n",
        "\n",
        "models = {\n",
        "    'dt': {'name': 'Decision Tree       ',\n",
        "           'estimator': DecisionTreeClassifier(random_state=random_state),\n",
        "           'param': [{'max_depth': [*range(1,20)],'class_weight':[None,'balanced']}],\n",
        "          },\n",
        "    'nb': {'name': 'Gaussian Naive Bayes',\n",
        "           'estimator': GaussianNB(),\n",
        "           'param': [{'var_smoothing': [10**exp for exp in range(-3,-12,-1)]}]\n",
        "          },\n",
        "    'lp': {'name': 'Linear Perceptron   ',\n",
        "           'estimator': Perceptron(random_state=random_state),\n",
        "           'param': [{'early_stopping': [True,False],'class_weight':[None,'balanced']}],\n",
        "          },\n",
        "    'svc':{'name': 'Support Vector      ',\n",
        "           'estimator': SVC(random_state=random_state),\n",
        "           'param': [{'kernel': ['rbf'],\n",
        "                    'gamma': [1e-3, 1e-4],\n",
        "                    'C': [1, 10, 100],\n",
        "                    },\n",
        "                    {'kernel': ['linear'],\n",
        "                     'C': [1, 10, 100],\n",
        "                    },\n",
        "                   ]\n",
        "          },\n",
        "    'knn':{'name': 'K Nearest Neighbor ',\n",
        "           'estimator': KNeighborsClassifier(),\n",
        "           'param': [{'n_neighbors': list(range(1,7))}]\n",
        "       },\n",
        "    'adb':{'name': 'AdaBoost           ',\n",
        "           'estimator': AdaBoostClassifier(random_state=random_state),\n",
        "           'param': [{'n_estimators':[20,30,40,50]\n",
        "                     ,'learning_rate':[0.5,0.75,1,1.25,1.5]}]\n",
        "          },\n",
        "    'rf': {'name': 'Random forest       ',\n",
        "           'estimator': RandomForestClassifier(random_state=random_state),\n",
        "           'param': [{\n",
        "                      # 'max_depth': [*range(4,30)]\n",
        "                      'max_depth': [*range(4,30,4)]\n",
        "                    #  ,'n_estimators':[*range(20,80,5)]\n",
        "                     ,'n_estimators':[*range(10,30,5)]\n",
        "                     ,'class_weight': [None,'balanced']\n",
        "                      }]\n",
        "          }\n",
        "\n",
        "}\n"
      ]
    },
    {
      "cell_type": "code",
      "execution_count": 14,
      "id": "1e51a5dc",
      "metadata": {
        "colab": {
          "base_uri": "https://localhost:8080/",
          "height": 453
        },
        "id": "1e51a5dc",
        "outputId": "97efa628-dc4d-42a5-c79e-c4bcf5b13b04"
      },
      "outputs": [
        {
          "data": {
            "image/png": "[encoded data removed]",
            "text/plain": [
              "<Figure size 640x480 with 1 Axes>"
            ]
          },
          "metadata": {},
          "output_type": "display_data"
        }
      ],
      "source": [
        "pca = PCA()\n",
        "\n",
        "X_trans = pca.fit_transform(X_full)\n",
        "\n",
        "# print(pca.explained_variance_ratio_ )\n",
        "\n",
        "plt.plot(range(X_full.shape[1]), pca.explained_variance_ratio_);\n",
        "\n",
        "plt.xlabel('Columns')\n",
        "plt.ylabel('PCA Explained Variance Ratio')\n",
        "\n",
        "plt.xticks(rotation = 90)\n",
        "\n",
        "plt.show()\n"
      ]
    },
    {
      "cell_type": "code",
      "execution_count": 15,
      "id": "256539ef",
      "metadata": {
        "colab": {
          "base_uri": "https://localhost:8080/"
        },
        "id": "256539ef",
        "outputId": "fb4561fb-b1e8-47dc-acff-fe0b1814e894"
      },
      "outputs": [
        {
          "name": "stdout",
          "output_type": "stream",
          "text": [
            "Used the top 30 transformed variables\n"
          ]
        }
      ],
      "source": [
        "explained_variances = pca.explained_variance_ratio_\n",
        "\n",
        "# Sort the explained variance ratios in descending order\n",
        "sorted_variances = sorted(explained_variances, reverse=True)\n",
        "\n",
        "\n",
        "# Calculate the cumulative sum of the explained variance ratios\n",
        "cumulative_variances = np.cumsum(sorted_variances)\n",
        "\n",
        "# Find the index i of the first principal component where the cumulative sum exceeds 0.05\n",
        "cutoff_index = np.argmax(cumulative_variances > cutoff_variance)\n",
        "print(\"Used the top {} transformed variables\".format(cutoff_index))\n",
        "\n",
        "# Keep the first i principal components and discard the rest\n",
        "X = pca.transform(X_full)[:, :cutoff_index+1]\n"
      ]
    },
    {
      "cell_type": "code",
      "execution_count": 16,
      "id": "6bd36e73",
      "metadata": {
        "colab": {
          "base_uri": "https://localhost:8080/"
        },
        "id": "6bd36e73",
        "outputId": "bce29b8f-f7df-4782-f6b6-df20f68d89ea"
      },
      "outputs": [
        {
          "name": "stdout",
          "output_type": "stream",
          "text": [
            "There are 2000 samples in the training dataset\n",
            "There are 198000 samples in the testing dataset\n",
            "Each sample has 31 features\n"
          ]
        }
      ],
      "source": [
        "from sklearn.model_selection import train_test_split\n",
        "X_train, X_test, y_train, y_test = train_test_split(X, y\n",
        "                                                    , train_size = train_size\n",
        "                                                    , random_state = random_state) # default Train 0.75- Test 0.25\n",
        "print(\"There are {} samples in the training dataset\".format(X_train.shape[0]))\n",
        "print(\"There are {} samples in the testing dataset\".format(X_test.shape[0]))\n",
        "print(\"Each sample has {} features\".format(X.shape[1]))"
      ]
    },
    {
      "cell_type": "code",
      "execution_count": 17,
      "id": "6f39a29c",
      "metadata": {
        "colab": {
          "base_uri": "https://localhost:8080/",
          "height": 262
        },
        "id": "6f39a29c",
        "outputId": "4e4dbd2a-7f5e-422d-8cf5-36261db21d31"
      },
      "outputs": [
        {
          "data": {
            "image/png": "[encoded data removed]",
            "text/plain": [
              "<Figure size 640x480 with 2 Axes>"
            ]
          },
          "metadata": {},
          "output_type": "display_data"
        }
      ],
      "source": [
        "fig, (ax1,ax2) = plt.subplots(nrows=1, ncols=2)\n",
        "ax1.pie(np.unique(y_train, return_counts=True)[1], labels=np.unique(y_train, return_counts=True)[0]);\n",
        "ax1.set_title(\"Label distribution in Train\")\n",
        "ax2.pie(np.unique(y_test, return_counts=True)[1], labels=np.unique(y_test, return_counts=True)[0]);\n",
        "ax2.set_title(\"Label distribution in Test\")\n",
        "plt.show()\n"
      ]
    },
    {
      "cell_type": "code",
      "execution_count": 18,
      "id": "9b750982",
      "metadata": {
        "id": "9b750982"
      },
      "outputs": [],
      "source": [
        "scorings = ['accuracy'\n",
        "            # ,'precision_macro'\n",
        "            # ,'recall_macro'\n",
        "            ,'f1_macro'\n",
        "            ]"
      ]
    },
    {
      "cell_type": "code",
      "execution_count": 19,
      "id": "ca8c6f24",
      "metadata": {
        "colab": {
          "base_uri": "https://localhost:8080/"
        },
        "id": "ca8c6f24",
        "outputId": "92ee3806-a1c1-415b-bf6b-e2a0ab901c23"
      },
      "outputs": [
        {
          "data": {
            "text/plain": [
              "{'dt': 38, 'rf': 56}"
            ]
          },
          "execution_count": 19,
          "metadata": {},
          "output_type": "execute_result"
        }
      ],
      "source": [
        "from sklearn.model_selection import ParameterGrid\n",
        "trials = {lbl: len(list(ParameterGrid(models[lbl]['param']))) for lbl in model_lbls}\n",
        "trials"
      ]
    },
    {
      "cell_type": "code",
      "execution_count": 20,
      "id": "1f4cbfff",
      "metadata": {
        "id": "1f4cbfff"
      },
      "outputs": [],
      "source": [
        "clfs = []\n",
        "results = pd.DataFrame(columns=['scoring','model','best_params','accuracy','precision_macro','recall_macro','f1_macro'])\n",
        "\n"
      ]
    },
    {
      "cell_type": "code",
      "execution_count": 21,
      "id": "c1457a0e",
      "metadata": {
        "id": "c1457a0e"
      },
      "outputs": [],
      "source": [
        "for scoring in scorings:\n",
        "    for m in model_lbls:\n",
        "        clf = GridSearchCV(models[m]['estimator'], models[m]['param'], cv=cv,\n",
        "                           scoring = scoring,\n",
        "\n",
        "                           )\n",
        "        clf.fit(X_train, y_train)\n",
        "        clfs.append(clf)\n",
        "        y_true, y_pred = y_test, clf.predict(X_test)\n",
        "        # y_preds.append(y_pred)\n",
        "        cr = classification_report(y_true,y_pred, output_dict=True\n",
        "                                   , zero_division=1\n",
        "                                   )\n",
        "        results.loc[len(results)] = [scoring,models[m]['name'],clf.best_params_\n",
        "                                    # ,(clf.cv_results_['mean_fit_time'].sum()+clf.cv_results_['mean_score_time'].sum())*n_splits\n",
        "                                    ,cr['accuracy']\n",
        "                                    ,cr['macro avg']['precision']\n",
        "                                    ,cr['macro avg']['recall']\n",
        "                                    ,cr['macro avg']['f1-score']]"
      ]
    },
    {
      "cell_type": "code",
      "execution_count": 23,
      "id": "0e72be9b",
      "metadata": {
        "colab": {
          "base_uri": "https://localhost:8080/",
          "height": 241
        },
        "id": "0e72be9b",
        "outputId": "680f0fa7-b564-4038-95dc-785920e84184"
      },
      "outputs": [
        {
          "data": {
            "text/html": [
              "<style type=\"text/css\">\n",
              "</style>\n",
              "<table id=\"T_60337\">\n",
              "  <caption>Results for scoring \"accuracy\"</caption>\n",
              "  <thead>\n",
              "    <tr>\n",
              "      <th class=\"blank level0\" >&nbsp;</th>\n",
              "      <th id=\"T_60337_level0_col0\" class=\"col_heading level0 col0\" >model</th>\n",
              "      <th id=\"T_60337_level0_col1\" class=\"col_heading level0 col1\" >best_params</th>\n",
              "      <th id=\"T_60337_level0_col2\" class=\"col_heading level0 col2\" >accuracy</th>\n",
              "      <th id=\"T_60337_level0_col3\" class=\"col_heading level0 col3\" >precision_macro</th>\n",
              "      <th id=\"T_60337_level0_col4\" class=\"col_heading level0 col4\" >recall_macro</th>\n",
              "      <th id=\"T_60337_level0_col5\" class=\"col_heading level0 col5\" >f1_macro</th>\n",
              "    </tr>\n",
              "  </thead>\n",
              "  <tbody>\n",
              "    <tr>\n",
              "      <th id=\"T_60337_level0_row0\" class=\"row_heading level0 row0\" >1</th>\n",
              "      <td id=\"T_60337_row0_col0\" class=\"data row0 col0\" >Random forest       </td>\n",
              "      <td id=\"T_60337_row0_col1\" class=\"data row0 col1\" >{'class_weight': None, 'max_depth': 4, 'n_estimators': 25}</td>\n",
              "      <td id=\"T_60337_row0_col2\" class=\"data row0 col2\" >0.327</td>\n",
              "      <td id=\"T_60337_row0_col3\" class=\"data row0 col3\" >0.679</td>\n",
              "      <td id=\"T_60337_row0_col4\" class=\"data row0 col4\" >0.163</td>\n",
              "      <td id=\"T_60337_row0_col5\" class=\"data row0 col5\" >0.130</td>\n",
              "    </tr>\n",
              "    <tr>\n",
              "      <th id=\"T_60337_level0_row1\" class=\"row_heading level0 row1\" >0</th>\n",
              "      <td id=\"T_60337_row1_col0\" class=\"data row1 col0\" >Decision Tree       </td>\n",
              "      <td id=\"T_60337_row1_col1\" class=\"data row1 col1\" >{'class_weight': None, 'max_depth': 3}</td>\n",
              "      <td id=\"T_60337_row1_col2\" class=\"data row1 col2\" >0.307</td>\n",
              "      <td id=\"T_60337_row1_col3\" class=\"data row1 col3\" >0.682</td>\n",
              "      <td id=\"T_60337_row1_col4\" class=\"data row1 col4\" >0.148</td>\n",
              "      <td id=\"T_60337_row1_col5\" class=\"data row1 col5\" >0.126</td>\n",
              "    </tr>\n",
              "  </tbody>\n",
              "</table>\n"
            ],
            "text/plain": [
              "<pandas.io.formats.style.Styler at 0x1aec00750>"
            ]
          },
          "metadata": {},
          "output_type": "display_data"
        },
        {
          "data": {
            "text/html": [
              "<style type=\"text/css\">\n",
              "</style>\n",
              "<table id=\"T_e4a89\">\n",
              "  <caption>Results for scoring \"f1_macro\"</caption>\n",
              "  <thead>\n",
              "    <tr>\n",
              "      <th class=\"blank level0\" >&nbsp;</th>\n",
              "      <th id=\"T_e4a89_level0_col0\" class=\"col_heading level0 col0\" >model</th>\n",
              "      <th id=\"T_e4a89_level0_col1\" class=\"col_heading level0 col1\" >best_params</th>\n",
              "      <th id=\"T_e4a89_level0_col2\" class=\"col_heading level0 col2\" >accuracy</th>\n",
              "      <th id=\"T_e4a89_level0_col3\" class=\"col_heading level0 col3\" >precision_macro</th>\n",
              "      <th id=\"T_e4a89_level0_col4\" class=\"col_heading level0 col4\" >recall_macro</th>\n",
              "      <th id=\"T_e4a89_level0_col5\" class=\"col_heading level0 col5\" >f1_macro</th>\n",
              "    </tr>\n",
              "  </thead>\n",
              "  <tbody>\n",
              "    <tr>\n",
              "      <th id=\"T_e4a89_level0_row0\" class=\"row_heading level0 row0\" >3</th>\n",
              "      <td id=\"T_e4a89_row0_col0\" class=\"data row0 col0\" >Random forest       </td>\n",
              "      <td id=\"T_e4a89_row0_col1\" class=\"data row0 col1\" >{'class_weight': 'balanced', 'max_depth': 8, 'n_estimators': 25}</td>\n",
              "      <td id=\"T_e4a89_row0_col2\" class=\"data row0 col2\" >0.264</td>\n",
              "      <td id=\"T_e4a89_row0_col3\" class=\"data row0 col3\" >0.155</td>\n",
              "      <td id=\"T_e4a89_row0_col4\" class=\"data row0 col4\" >0.163</td>\n",
              "      <td id=\"T_e4a89_row0_col5\" class=\"data row0 col5\" >0.157</td>\n",
              "    </tr>\n",
              "    <tr>\n",
              "      <th id=\"T_e4a89_level0_row1\" class=\"row_heading level0 row1\" >2</th>\n",
              "      <td id=\"T_e4a89_row1_col0\" class=\"data row1 col0\" >Decision Tree       </td>\n",
              "      <td id=\"T_e4a89_row1_col1\" class=\"data row1 col1\" >{'class_weight': None, 'max_depth': 7}</td>\n",
              "      <td id=\"T_e4a89_row1_col2\" class=\"data row1 col2\" >0.283</td>\n",
              "      <td id=\"T_e4a89_row1_col3\" class=\"data row1 col3\" >0.149</td>\n",
              "      <td id=\"T_e4a89_row1_col4\" class=\"data row1 col4\" >0.148</td>\n",
              "      <td id=\"T_e4a89_row1_col5\" class=\"data row1 col5\" >0.133</td>\n",
              "    </tr>\n",
              "  </tbody>\n",
              "</table>\n"
            ],
            "text/plain": [
              "<pandas.io.formats.style.Styler at 0x1ae8dae10>"
            ]
          },
          "metadata": {},
          "output_type": "display_data"
        }
      ],
      "source": [
        "for score in scorings:\n",
        "    scoring_filter = score\n",
        "    display(results[results.scoring==scoring_filter]\\\n",
        "                .sort_values(by=scoring_filter,ascending=False)\\\n",
        "                .drop('scoring',axis=1)\\\n",
        "                .style.format(precision=3)\\\n",
        "                .set_caption('Results for scoring \"{}\"'.format(scoring_filter)))"
      ]
    },
    {
      "cell_type": "code",
      "execution_count": 24,
      "id": "914e8772",
      "metadata": {
        "colab": {
          "base_uri": "https://localhost:8080/",
          "height": 927
        },
        "id": "914e8772",
        "outputId": "99fe61c8-5a99-410b-89cc-1567b7febf17"
      },
      "outputs": [
        {
          "data": {
            "image/png": "[encoded data removed]",
            "text/plain": [
              "<Figure size 640x480 with 2 Axes>"
            ]
          },
          "metadata": {},
          "output_type": "display_data"
        },
        {
          "data": {
            "image/png": "[encoded data removed]",
            "text/plain": [
              "<Figure size 640x480 with 2 Axes>"
            ]
          },
          "metadata": {},
          "output_type": "display_data"
        }
      ],
      "source": [
        "for score in scorings:\n",
        "    scoring_filter = score\n",
        "    # bests[score] = results.loc[results.scoring==scoring_filter,scoring_filter].idxmax(axis=0)\n",
        "    best_row = results.loc[results.scoring==scoring_filter,scoring_filter].idxmax(axis=0)\n",
        "    disp = ConfusionMatrixDisplay.from_estimator(X=X_test, y=y_test, estimator = clfs[best_row], normalize='true')\n",
        "    # disp.ax_.set_title(\"Best Model for {}: {}\".format(score,results.at[bests[score],'model']))\n",
        "    disp.ax_.set_title(\"Best Model for {}: {}\".format(score,results.at[best_row,'model']))\n",
        "plt.show()"
      ]
    },
    {
      "cell_type": "markdown",
      "id": "95756fec",
      "metadata": {
        "id": "95756fec"
      },
      "source": [
        "## Final step - make a prediction\n",
        "9. For the final test, upload the file `test.csv`, apply the same data reduction applied to `train.csv`\n",
        "    - in order to avoid confusion, we will call this dataset `u_test` (unsupervised)\n",
        "10. make the prediction using the models previously optimized\n",
        "    - train the best estimator for `f1_macro` with the __entire__ training set\n",
        "    - predict the target for `u_test` \n",
        "    - save a new file `test_predicted.csv` with the original test data and the predictions for the target\n",
        "11. show a pie chart of the distribution of classes in the predictions"
      ]
    },
    {
      "cell_type": "code",
      "execution_count": 31,
      "id": "588c735f",
      "metadata": {
        "id": "588c735f"
      },
      "outputs": [
        {
          "name": "stdout",
          "output_type": "stream",
          "text": [
            "Shape of the test data (100000, 75)\n"
          ]
        }
      ],
      "source": [
        "u_test_ds = pd.read_csv(file_path+'test.csv').drop('id', axis=1)\n",
        "print(\"Shape of the test data {}\".format(u_test_ds.shape))"
      ]
    },
    {
      "cell_type": "code",
      "execution_count": 32,
      "metadata": {},
      "outputs": [],
      "source": [
        "X_u_test = pca.transform(u_test_ds)[:, :cutoff_index+1]\n"
      ]
    },
    {
      "cell_type": "code",
      "execution_count": 35,
      "metadata": {},
      "outputs": [
        {
          "data": {
            "text/html": [
              "<div>\n",
              "<style scoped>\n",
              "    .dataframe tbody tr th:only-of-type {\n",
              "        vertical-align: middle;\n",
              "    }\n",
              "\n",
              "    .dataframe tbody tr th {\n",
              "        vertical-align: top;\n",
              "    }\n",
              "\n",
              "    .dataframe thead th {\n",
              "        text-align: right;\n",
              "    }\n",
              "</style>\n",
              "<table border=\"1\" class=\"dataframe\">\n",
              "  <thead>\n",
              "    <tr style=\"text-align: right;\">\n",
              "      <th></th>\n",
              "      <th>scoring</th>\n",
              "      <th>model</th>\n",
              "      <th>best_params</th>\n",
              "      <th>accuracy</th>\n",
              "      <th>precision_macro</th>\n",
              "      <th>recall_macro</th>\n",
              "      <th>f1_macro</th>\n",
              "    </tr>\n",
              "  </thead>\n",
              "  <tbody>\n",
              "    <tr>\n",
              "      <th>0</th>\n",
              "      <td>accuracy</td>\n",
              "      <td>Decision Tree</td>\n",
              "      <td>{'class_weight': None, 'max_depth': 3}</td>\n",
              "      <td>0.307162</td>\n",
              "      <td>0.682211</td>\n",
              "      <td>0.148385</td>\n",
              "      <td>0.125871</td>\n",
              "    </tr>\n",
              "    <tr>\n",
              "      <th>1</th>\n",
              "      <td>accuracy</td>\n",
              "      <td>Random forest</td>\n",
              "      <td>{'class_weight': None, 'max_depth': 4, 'n_esti...</td>\n",
              "      <td>0.326530</td>\n",
              "      <td>0.679213</td>\n",
              "      <td>0.163182</td>\n",
              "      <td>0.129577</td>\n",
              "    </tr>\n",
              "    <tr>\n",
              "      <th>2</th>\n",
              "      <td>f1_macro</td>\n",
              "      <td>Decision Tree</td>\n",
              "      <td>{'class_weight': None, 'max_depth': 7}</td>\n",
              "      <td>0.282652</td>\n",
              "      <td>0.149385</td>\n",
              "      <td>0.147939</td>\n",
              "      <td>0.132758</td>\n",
              "    </tr>\n",
              "    <tr>\n",
              "      <th>3</th>\n",
              "      <td>f1_macro</td>\n",
              "      <td>Random forest</td>\n",
              "      <td>{'class_weight': 'balanced', 'max_depth': 8, '...</td>\n",
              "      <td>0.263909</td>\n",
              "      <td>0.155441</td>\n",
              "      <td>0.163396</td>\n",
              "      <td>0.156594</td>\n",
              "    </tr>\n",
              "  </tbody>\n",
              "</table>\n",
              "</div>"
            ],
            "text/plain": [
              "    scoring                 model  \\\n",
              "0  accuracy  Decision Tree          \n",
              "1  accuracy  Random forest          \n",
              "2  f1_macro  Decision Tree          \n",
              "3  f1_macro  Random forest          \n",
              "\n",
              "                                         best_params  accuracy  \\\n",
              "0             {'class_weight': None, 'max_depth': 3}  0.307162   \n",
              "1  {'class_weight': None, 'max_depth': 4, 'n_esti...  0.326530   \n",
              "2             {'class_weight': None, 'max_depth': 7}  0.282652   \n",
              "3  {'class_weight': 'balanced', 'max_depth': 8, '...  0.263909   \n",
              "\n",
              "   precision_macro  recall_macro  f1_macro  \n",
              "0         0.682211      0.148385  0.125871  \n",
              "1         0.679213      0.163182  0.129577  \n",
              "2         0.149385      0.147939  0.132758  \n",
              "3         0.155441      0.163396  0.156594  "
            ]
          },
          "execution_count": 35,
          "metadata": {},
          "output_type": "execute_result"
        }
      ],
      "source": [
        "results"
      ]
    },
    {
      "cell_type": "code",
      "execution_count": 39,
      "metadata": {},
      "outputs": [
        {
          "ename": "TypeError",
          "evalue": "'str' object is not callable",
          "output_type": "error",
          "traceback": [
            "\u001b[0;31m---------------------------------------------------------------------------\u001b[0m",
            "\u001b[0;31mTypeError\u001b[0m                                 Traceback (most recent call last)",
            "\u001b[1;32m/Users/csartori/Documents/GitHub/machine-learning-lab/Lab solutions 2023-24/lab5a_pca_solution.ipynb Cella 29\u001b[0m line \u001b[0;36m4\n\u001b[1;32m      <a href='vscode-notebook-cell:/Users/csartori/Documents/GitHub/machine-learning-lab/Lab%20solutions%202023-24/lab5a_pca_solution.ipynb#X42sZmlsZQ%3D%3D?line=1'>2</a>\u001b[0m best_row \u001b[39m=\u001b[39m results\u001b[39m.\u001b[39mloc[results\u001b[39m.\u001b[39mscoring\u001b[39m==\u001b[39mscoring_filter,scoring_filter]\u001b[39m.\u001b[39midxmax(axis\u001b[39m=\u001b[39m\u001b[39m0\u001b[39m)\n\u001b[1;32m      <a href='vscode-notebook-cell:/Users/csartori/Documents/GitHub/machine-learning-lab/Lab%20solutions%202023-24/lab5a_pca_solution.ipynb#X42sZmlsZQ%3D%3D?line=2'>3</a>\u001b[0m best_row\n\u001b[0;32m----> <a href='vscode-notebook-cell:/Users/csartori/Documents/GitHub/machine-learning-lab/Lab%20solutions%202023-24/lab5a_pca_solution.ipynb#X42sZmlsZQ%3D%3D?line=3'>4</a>\u001b[0m best_f1_macro \u001b[39m=\u001b[39m results\u001b[39m.\u001b[39;49mloc[best_row,\u001b[39m'\u001b[39;49m\u001b[39mmodel\u001b[39;49m\u001b[39m'\u001b[39;49m]()\n",
            "\u001b[0;31mTypeError\u001b[0m: 'str' object is not callable"
          ]
        }
      ],
      "source": [
        "scoring_filter = 'f1_macro'\n",
        "best_row = results.loc[results.scoring==scoring_filter,scoring_filter].idxmax(axis=0)\n",
        "best_row\n",
        "# best_f1_macro = results.loc[best_row,'model']()"
      ]
    },
    {
      "cell_type": "code",
      "execution_count": 41,
      "metadata": {},
      "outputs": [],
      "source": [
        "y = clf.best_estimator_.predict(X_u_test)"
      ]
    },
    {
      "cell_type": "code",
      "execution_count": 42,
      "metadata": {},
      "outputs": [
        {
          "data": {
            "text/plain": [
              "(100000,)"
            ]
          },
          "execution_count": 42,
          "metadata": {},
          "output_type": "execute_result"
        }
      ],
      "source": [
        "y.shape"
      ]
    },
    {
      "cell_type": "code",
      "execution_count": 44,
      "metadata": {},
      "outputs": [
        {
          "data": {
            "image/png": "[encoded data removed]",
            "text/plain": [
              "<Figure size 640x480 with 2 Axes>"
            ]
          },
          "metadata": {},
          "output_type": "display_data"
        }
      ],
      "source": [
        "fig, (ax1,ax2) = plt.subplots(nrows=1, ncols=2)\n",
        "ax1.pie(np.unique(y_train, return_counts=True)[1], labels=np.unique(y_train, return_counts=True)[0]);\n",
        "ax1.set_title(\"Label distribution in Train\")\n",
        "ax2.pie(np.unique(y, return_counts=True)[1], labels=np.unique(y, return_counts=True)[0]);\n",
        "ax2.set_title(\"Label distribution in Submission\")\n",
        "plt.show()"
      ]
    }
  ],
  "metadata": {
    "colab": {
      "provenance": []
    },
    "kernelspec": {
      "display_name": "Python 3 (ipykernel)",
      "language": "python",
      "name": "python3"
    },
    "language_info": {
      "codemirror_mode": {
        "name": "ipython",
        "version": 3
      },
      "file_extension": ".py",
      "mimetype": "text/x-python",
      "name": "python",
      "nbconvert_exporter": "python",
      "pygments_lexer": "ipython3",
      "version": "3.11.6"
    }
  },
  "nbformat": 4,
  "nbformat_minor": 5
}
