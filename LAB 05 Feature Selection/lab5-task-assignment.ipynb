{
 "cells": [
  {
   "cell_type": "markdown",
   "id": "af8f2cc2-f7e4-4318-b363-603fa942d137",
   "metadata": {},
   "source": [
    "# Machine Learning lab - 05 - Data Reduction\n",
    "\n",
    "We have available two data files, `train.csv` and `test.csv`\n",
    "\n",
    "## First experiment: unsupervised attribute selection\n",
    "\n",
    "Workflow:\n",
    "\n",
    "1. load `train.csv` and do some exploration (the number of columns is relevant, avoid using `pairplots`, it would be very slow and undreadable)\n",
    "2. cancel useless columns, if any, use as target the `target` column, separate predicting from target into `X_full` and `y`\n",
    "3. Try unsupervised attribute selection: use `PCA` to keep only the transformed features able to explain, cumulatively, 90% of the total variance\n",
    "4. store in X the remaining, transformed variables\n",
    "5. split the X and y data into __train__ and __test__; since the file is quite large, for a faster development use not more than 2000 rows for training, and the remaining for testing\n",
    "6. show two pie charts of the distribution of classes into `y_train` and `y_test` to verify if they are similar\n",
    "7. optimize with `GridSearchCV` DecistionTree and RandomForest, using two different targets: `accuracy` and `f1_macro`\n",
    "8. show the confusion matrices of the best model for `accuracy` and `f1_macro` and comment the differences\n",
    "9. For the final test, upload the file `test.csv`, apply the same data reduction applied to `train.csv`,\n",
    "10. make the prediction using the models previously optimized\n",
    "11. show the confusion matrices and comment the comparison with the ones previously generated"
   ]
  },
  {
   "cell_type": "markdown",
   "id": "33139235-b84b-4534-881c-a7ed995bfc76",
   "metadata": {
    "scrolled": true
   },
   "source": [
    "## Second experiment: supervised attribute selection\n",
    "Workflow:\n",
    "\n",
    "1. as before\n",
    "2. as before\n",
    "3. split the X and y data into train and test; since the file is quite large, for a faster development use not more than 2000 rows for training, and the remaining for testing\n",
    "4. supervised attribute selection\n",
    "    - `SelectKBest` with `mutual_info_classif`\n",
    "    - `k_best = 30  # Number of top features to select`\n",
    "    - `selector = SelectKBest(mutual_info_classif, k=k_best)`\n",
    "    - this must be fitted on the train part, then used to transform the train and the test part of `X`\n",
    "6. execute the steps from 7 to the end as before "
   ]
  }
 ],
 "metadata": {
  "kernelspec": {
   "display_name": "Python 3 (ipykernel)",
   "language": "python",
   "name": "python3"
  },
  "language_info": {
   "codemirror_mode": {
    "name": "ipython",
    "version": 3
   },
   "file_extension": ".py",
   "mimetype": "text/x-python",
   "name": "python",
   "nbconvert_exporter": "python",
   "pygments_lexer": "ipython3",
   "version": "3.10.10"
  }
 },
 "nbformat": 4,
 "nbformat_minor": 5
}
