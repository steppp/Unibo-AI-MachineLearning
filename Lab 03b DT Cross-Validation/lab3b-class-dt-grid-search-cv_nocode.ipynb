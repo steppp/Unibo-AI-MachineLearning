{
 "cells": [
  {
   "cell_type": "markdown",
   "metadata": {
    "slideshow": {
     "slide_type": "slide"
    }
   },
   "source": [
    "[From official `scikit-learn` documentation](http://scikit-learn.org/stable/auto_examples/model_selection/plot_grid_search_digits.html)<br>\n",
    "Adapted by Claudio Sartori\n",
    "\n",
    "# Classification with Decision Tree - hyperparameter tuning (__model selection__) with Grid Search and Cross Validation\n",
    "\n",
    "We use here the Decision Tree and the standard `CrossValidation`, then find the best hyperparameter setting through _grid search_\n",
    "\n",
    "\n",
    "### Workflow\n",
    "1. download the data\n",
    "1. data exploration\n",
    "1. drop the useless data (if any)\n",
    "1. separe the predicting attributes X from the class attribute y\n",
    "1. split X and y into training and test\n",
    "    - set a variable `target` with the column name of the target\n",
    "1. single run with default parameters\n",
    "    - initialise a estimator with the DecisionTreeClassifier\n",
    "    - fit the estimator with the training part of X\n",
    "    - show the tree structure\n",
    "        - in particular, observe the maximum depth of the tree, this will be used in choosing the range for the `max_depth` hyperparameter\n",
    "    - predict the y values with the fitted estimator and the train data\n",
    "        - compare the predicted values with the true ones and compute the accuracy on the training set \n",
    "    - predict the y values with the fitted estimator and the test data\n",
    "        - compare the predicted values with the true ones and compute the accuracy on the test set\n",
    "        - this will be our baseline\n",
    "\n",
    "## Model selection\n",
    "\n",
    "- the *train* part will be used for training and _cross-validation_ (i.e. for *development*)\n",
    "- the *test* part will be used for test (i.e. for *evaluation*)\n",
    "- the fraction of test data will be _ts_ (a value of your choice between 0.2 and 0.5)\n",
    "- the function `GridSearchCV` iterates a cross validation experiment to __train__ and __validate__ a model with different combinations of paramater values\n",
    "- for each parameter we set a list of values to test, the `GridSearchCV` function will generate all the combinations\n",
    "- we will make several experiments with the optimisation of different *score function* \n",
    "    - e.g. `accuracy_score`, `precision_score`, `recall_score`, `f1_score`, see this [page](http://scikit-learn.org/stable/modules/classes.html#module-sklearn.metrics) for reference\n",
    "    - the output is a dictionary containing \n",
    "        - the set of parameters which maximize the score \n",
    "        - the test scores\n"
   ]
  },
  {
   "cell_type": "code",
   "execution_count": 88,
   "metadata": {
    "slideshow": {
     "slide_type": "slide"
    }
   },
   "outputs": [],
   "source": [
    "\"\"\"\n",
    "http://scikit-learn.org/stable/auto_examples/model_selection/plot_grid_search_digits.html\n",
    "@author: scikit-learn.org and Claudio Sartori\n",
    "\"\"\"\n",
    "import warnings\n",
    "warnings.filterwarnings('ignore') # uncomment this line to suppress warnings\n",
    "\n",
    "from sklearn import datasets\n",
    "import pandas as pd\n",
    "import numpy as np\n",
    "import matplotlib.pyplot as plt\n",
    "import seaborn as sns\n",
    "from sklearn import tree\n",
    "from sklearn.model_selection import train_test_split\n",
    "from sklearn.model_selection import GridSearchCV\n",
    "from sklearn.metrics import accuracy_score, classification_report, confusion_matrix, ConfusionMatrixDisplay\n",
    "from sklearn.tree import DecisionTreeClassifier, plot_tree\n"
   ]
  },
  {
   "cell_type": "markdown",
   "metadata": {
    "slideshow": {
     "slide_type": "slide"
    }
   },
   "source": [
    "### Prepare the environment\n",
    "The `dataset` module contains, among others, a few sample datasets.\n",
    "\n",
    "See this [page](http://scikit-learn.org/stable/datasets/index.html) for reference\n",
    "\n",
    "Prepare the data and the target in X and y. Set `ts`. Set the random state"
   ]
  },
  {
   "cell_type": "code",
   "execution_count": 102,
   "metadata": {},
   "outputs": [],
   "source": [
    "test_split = 0.67\n",
    "random_state = 42\n",
    "n_splits = 3\n",
    "\n",
    "np.random.seed(random_state)"
   ]
  },
  {
   "cell_type": "markdown",
   "metadata": {},
   "source": [
    "Read the data into a dataframe and show the size"
   ]
  },
  {
   "cell_type": "code",
   "execution_count": null,
   "metadata": {},
   "outputs": [],
   "source": []
  },
  {
   "cell_type": "code",
   "execution_count": 103,
   "metadata": {},
   "outputs": [
    {
     "name": "stdout",
     "output_type": "stream",
     "text": [
      "Shape of the input data: (150, 5)\n"
     ]
    }
   ],
   "source": [
    "ds = datasets.load_iris()\n",
    "df = pd.DataFrame(ds.data)\n",
    "df.columns = ds.feature_names\n",
    "df['target'] = ds.target\n",
    "\n",
    "print(f\"Shape of the input data: {df.shape}\")"
   ]
  },
  {
   "cell_type": "markdown",
   "metadata": {},
   "source": [
    "Have a quick look to the data.\n",
    "- use the .shape attribute to see the size\n",
    "- use the `.head()` function to see column names and some data\n",
    "- use the `.hist()` method for an histogram of the columns\n",
    "- use the .unique method to see the class values"
   ]
  },
  {
   "cell_type": "code",
   "execution_count": null,
   "metadata": {},
   "outputs": [],
   "source": []
  },
  {
   "cell_type": "code",
   "execution_count": 104,
   "metadata": {},
   "outputs": [
    {
     "data": {
      "text/html": [
       "<div>\n",
       "<style scoped>\n",
       "    .dataframe tbody tr th:only-of-type {\n",
       "        vertical-align: middle;\n",
       "    }\n",
       "\n",
       "    .dataframe tbody tr th {\n",
       "        vertical-align: top;\n",
       "    }\n",
       "\n",
       "    .dataframe thead th {\n",
       "        text-align: right;\n",
       "    }\n",
       "</style>\n",
       "<table border=\"1\" class=\"dataframe\">\n",
       "  <thead>\n",
       "    <tr style=\"text-align: right;\">\n",
       "      <th></th>\n",
       "      <th>sepal length (cm)</th>\n",
       "      <th>sepal width (cm)</th>\n",
       "      <th>petal length (cm)</th>\n",
       "      <th>petal width (cm)</th>\n",
       "      <th>target</th>\n",
       "    </tr>\n",
       "  </thead>\n",
       "  <tbody>\n",
       "    <tr>\n",
       "      <th>0</th>\n",
       "      <td>5.1</td>\n",
       "      <td>3.5</td>\n",
       "      <td>1.4</td>\n",
       "      <td>0.2</td>\n",
       "      <td>0</td>\n",
       "    </tr>\n",
       "    <tr>\n",
       "      <th>1</th>\n",
       "      <td>4.9</td>\n",
       "      <td>3.0</td>\n",
       "      <td>1.4</td>\n",
       "      <td>0.2</td>\n",
       "      <td>0</td>\n",
       "    </tr>\n",
       "    <tr>\n",
       "      <th>2</th>\n",
       "      <td>4.7</td>\n",
       "      <td>3.2</td>\n",
       "      <td>1.3</td>\n",
       "      <td>0.2</td>\n",
       "      <td>0</td>\n",
       "    </tr>\n",
       "    <tr>\n",
       "      <th>3</th>\n",
       "      <td>4.6</td>\n",
       "      <td>3.1</td>\n",
       "      <td>1.5</td>\n",
       "      <td>0.2</td>\n",
       "      <td>0</td>\n",
       "    </tr>\n",
       "    <tr>\n",
       "      <th>4</th>\n",
       "      <td>5.0</td>\n",
       "      <td>3.6</td>\n",
       "      <td>1.4</td>\n",
       "      <td>0.2</td>\n",
       "      <td>0</td>\n",
       "    </tr>\n",
       "  </tbody>\n",
       "</table>\n",
       "</div>"
      ],
      "text/plain": [
       "   sepal length (cm)  sepal width (cm)  petal length (cm)  petal width (cm)  \\\n",
       "0                5.1               3.5                1.4               0.2   \n",
       "1                4.9               3.0                1.4               0.2   \n",
       "2                4.7               3.2                1.3               0.2   \n",
       "3                4.6               3.1                1.5               0.2   \n",
       "4                5.0               3.6                1.4               0.2   \n",
       "\n",
       "   target  \n",
       "0       0  \n",
       "1       0  \n",
       "2       0  \n",
       "3       0  \n",
       "4       0  "
      ]
     },
     "execution_count": 104,
     "metadata": {},
     "output_type": "execute_result"
    }
   ],
   "source": [
    "df.head()"
   ]
  },
  {
   "cell_type": "markdown",
   "metadata": {},
   "source": [
    "Show an histogram of the target labels frequencies (hint: use the `value_counts` method)"
   ]
  },
  {
   "cell_type": "code",
   "execution_count": null,
   "metadata": {},
   "outputs": [],
   "source": []
  },
  {
   "cell_type": "code",
   "execution_count": 105,
   "metadata": {},
   "outputs": [
    {
     "data": {
      "text/plain": [
       "<Axes: xlabel='target'>"
      ]
     },
     "execution_count": 105,
     "metadata": {},
     "output_type": "execute_result"
    },
    {
     "data": {
      "image/png": "[encoded data removed]",
      "text/plain": [
       "<Figure size 640x480 with 1 Axes>"
      ]
     },
     "metadata": {},
     "output_type": "display_data"
    }
   ],
   "source": [
    "df.value_counts(\"target\", sort=False).plot(kind=\"bar\")"
   ]
  },
  {
   "cell_type": "markdown",
   "metadata": {},
   "source": [
    "#### Split the data into the predicting values X and the class y\n",
    "Drop also the columns which are not relevant for training a classifier, if any\n",
    "\n",
    "The method \"drop\" of dataframes allows to drop either rows or columns\n",
    "- the \"axis\" parameter chooses between dropping rows (axis=0) or columns (axis=1)"
   ]
  },
  {
   "cell_type": "code",
   "execution_count": 106,
   "metadata": {},
   "outputs": [],
   "source": [
    "X = df.drop(\"target\", axis=1)\n",
    "y = df[\"target\"]"
   ]
  },
  {
   "cell_type": "markdown",
   "metadata": {},
   "source": [
    "### Prepare the baseline: holdout method"
   ]
  },
  {
   "cell_type": "code",
   "execution_count": 107,
   "metadata": {},
   "outputs": [
    {
     "name": "stdout",
     "output_type": "stream",
     "text": [
      "There are 49 samples in the training dataset\n",
      "There are 101 samples in the test dataset\n",
      "Each sample has 4 features\n"
     ]
    }
   ],
   "source": [
    "X_train, X_test, y_train, y_test = train_test_split(X, y, test_size=test_split, random_state=random_state)\n",
    "\n",
    "print(f\"There are {X_train.shape[0]} samples in the training dataset\")\n",
    "print(f\"There are {X_test.shape[0]} samples in the test dataset\")\n",
    "print(f\"Each sample has {X_train.shape[1]} features\")"
   ]
  },
  {
   "cell_type": "markdown",
   "metadata": {},
   "source": [
    "- Initialize an estimator with the required model generator `tree.DecisionTreeClassifier(criterion=\"entropy\")`\n",
    "- Fit the estimator on the train data and target"
   ]
  },
  {
   "cell_type": "code",
   "execution_count": 108,
   "metadata": {},
   "outputs": [
    {
     "data": {
      "text/html": [
       "<style>#sk-container-id-9 {color: black;}#sk-container-id-9 pre{padding: 0;}#sk-container-id-9 div.sk-toggleable {background-color: white;}#sk-container-id-9 label.sk-toggleable__label {cursor: pointer;display: block;width: 100%;margin-bottom: 0;padding: 0.3em;box-sizing: border-box;text-align: center;}#sk-container-id-9 label.sk-toggleable__label-arrow:before {content: \"▸\";float: left;margin-right: 0.25em;color: #696969;}#sk-container-id-9 label.sk-toggleable__label-arrow:hover:before {color: black;}#sk-container-id-9 div.sk-estimator:hover label.sk-toggleable__label-arrow:before {color: black;}#sk-container-id-9 div.sk-toggleable__content {max-height: 0;max-width: 0;overflow: hidden;text-align: left;background-color: #f0f8ff;}#sk-container-id-9 div.sk-toggleable__content pre {margin: 0.2em;color: black;border-radius: 0.25em;background-color: #f0f8ff;}#sk-container-id-9 input.sk-toggleable__control:checked~div.sk-toggleable__content {max-height: 200px;max-width: 100%;overflow: auto;}#sk-container-id-9 input.sk-toggleable__control:checked~label.sk-toggleable__label-arrow:before {content: \"▾\";}#sk-container-id-9 div.sk-estimator input.sk-toggleable__control:checked~label.sk-toggleable__label {background-color: #d4ebff;}#sk-container-id-9 div.sk-label input.sk-toggleable__control:checked~label.sk-toggleable__label {background-color: #d4ebff;}#sk-container-id-9 input.sk-hidden--visually {border: 0;clip: rect(1px 1px 1px 1px);clip: rect(1px, 1px, 1px, 1px);height: 1px;margin: -1px;overflow: hidden;padding: 0;position: absolute;width: 1px;}#sk-container-id-9 div.sk-estimator {font-family: monospace;background-color: #f0f8ff;border: 1px dotted black;border-radius: 0.25em;box-sizing: border-box;margin-bottom: 0.5em;}#sk-container-id-9 div.sk-estimator:hover {background-color: #d4ebff;}#sk-container-id-9 div.sk-parallel-item::after {content: \"\";width: 100%;border-bottom: 1px solid gray;flex-grow: 1;}#sk-container-id-9 div.sk-label:hover label.sk-toggleable__label {background-color: #d4ebff;}#sk-container-id-9 div.sk-serial::before {content: \"\";position: absolute;border-left: 1px solid gray;box-sizing: border-box;top: 0;bottom: 0;left: 50%;z-index: 0;}#sk-container-id-9 div.sk-serial {display: flex;flex-direction: column;align-items: center;background-color: white;padding-right: 0.2em;padding-left: 0.2em;position: relative;}#sk-container-id-9 div.sk-item {position: relative;z-index: 1;}#sk-container-id-9 div.sk-parallel {display: flex;align-items: stretch;justify-content: center;background-color: white;position: relative;}#sk-container-id-9 div.sk-item::before, #sk-container-id-9 div.sk-parallel-item::before {content: \"\";position: absolute;border-left: 1px solid gray;box-sizing: border-box;top: 0;bottom: 0;left: 50%;z-index: -1;}#sk-container-id-9 div.sk-parallel-item {display: flex;flex-direction: column;z-index: 1;position: relative;background-color: white;}#sk-container-id-9 div.sk-parallel-item:first-child::after {align-self: flex-end;width: 50%;}#sk-container-id-9 div.sk-parallel-item:last-child::after {align-self: flex-start;width: 50%;}#sk-container-id-9 div.sk-parallel-item:only-child::after {width: 0;}#sk-container-id-9 div.sk-dashed-wrapped {border: 1px dashed gray;margin: 0 0.4em 0.5em 0.4em;box-sizing: border-box;padding-bottom: 0.4em;background-color: white;}#sk-container-id-9 div.sk-label label {font-family: monospace;font-weight: bold;display: inline-block;line-height: 1.2em;}#sk-container-id-9 div.sk-label-container {text-align: center;}#sk-container-id-9 div.sk-container {/* jupyter's `normalize.less` sets `[hidden] { display: none; }` but bootstrap.min.css set `[hidden] { display: none !important; }` so we also need the `!important` here to be able to override the default hidden behavior on the sphinx rendered scikit-learn.org. See: https://github.com/scikit-learn/scikit-learn/issues/21755 */display: inline-block !important;position: relative;}#sk-container-id-9 div.sk-text-repr-fallback {display: none;}</style><div id=\"sk-container-id-9\" class=\"sk-top-container\"><div class=\"sk-text-repr-fallback\"><pre>DecisionTreeClassifier(criterion=&#x27;entropy&#x27;)</pre><b>In a Jupyter environment, please rerun this cell to show the HTML representation or trust the notebook. <br />On GitHub, the HTML representation is unable to render, please try loading this page with nbviewer.org.</b></div><div class=\"sk-container\" hidden><div class=\"sk-item\"><div class=\"sk-estimator sk-toggleable\"><input class=\"sk-toggleable__control sk-hidden--visually\" id=\"sk-estimator-id-9\" type=\"checkbox\" checked><label for=\"sk-estimator-id-9\" class=\"sk-toggleable__label sk-toggleable__label-arrow\">DecisionTreeClassifier</label><div class=\"sk-toggleable__content\"><pre>DecisionTreeClassifier(criterion=&#x27;entropy&#x27;)</pre></div></div></div></div></div>"
      ],
      "text/plain": [
       "DecisionTreeClassifier(criterion='entropy')"
      ]
     },
     "execution_count": 108,
     "metadata": {},
     "output_type": "execute_result"
    }
   ],
   "source": [
    "model = DecisionTreeClassifier(criterion='entropy')\n",
    "model.fit(X_train, y_train)"
   ]
  },
  {
   "cell_type": "code",
   "execution_count": 109,
   "metadata": {},
   "outputs": [
    {
     "name": "stdout",
     "output_type": "stream",
     "text": [
      "Accuracy on training set: 100.00%\n"
     ]
    }
   ],
   "source": [
    "y_train_predict = model.predict(X_train)\n",
    "accuracy_train = accuracy_score(y_train_predict, y_train) * 100\n",
    "print(f\"Accuracy on training set: {accuracy_train:.2f}%\")"
   ]
  },
  {
   "cell_type": "markdown",
   "metadata": {},
   "source": [
    "Let's see how it works on test data, and, comparing with the result on training data, see if you can suspect *overfitting*\n",
    "- use the fitted estimator to predict using the test features\n",
    "- compute the accuracy and store it on a variable for the final summary\n",
    "- store the maximum depth of the tree, for later use \n",
    "    - `fitted_max_depth = estimator.tree_.max_depth`\n",
    "- store the range of the parameter which will be used for tuning\n",
    "    - `parameter_values = range(1,fitted_max_depth+1)`\n",
    "- print the accuracy on the test set and the maximum depth of the tree"
   ]
  },
  {
   "cell_type": "code",
   "execution_count": null,
   "metadata": {},
   "outputs": [],
   "source": []
  },
  {
   "cell_type": "code",
   "execution_count": 110,
   "metadata": {},
   "outputs": [
    {
     "name": "stdout",
     "output_type": "stream",
     "text": [
      "Accuracy on test set: 92.08%\n",
      "The maximum depth of the tree is: 2\n"
     ]
    }
   ],
   "source": [
    "y_test_predict = model.predict(X_test)\n",
    "accuracy_test = accuracy_score(y_test_predict, y_test) * 100\n",
    "print(f\"Accuracy on test set: {accuracy_test:.2f}%\")\n",
    "\n",
    "fitted_max_depth = model.tree_.max_depth\n",
    "print(f\"The maximum depth of the tree is: {fitted_max_depth}\")\n",
    "\n",
    "parameter_values = range(1, fitted_max_depth + 1)"
   ]
  },
  {
   "cell_type": "markdown",
   "metadata": {},
   "source": [
    "Prepare the decision tree parameters and the scores "
   ]
  },
  {
   "cell_type": "code",
   "execution_count": 113,
   "metadata": {
    "slideshow": {
     "slide_type": "fragment"
    }
   },
   "outputs": [],
   "source": [
    "# Set the parameters by cross-validation\n",
    "tuned_param_dt = [{'max_depth': [*range(1,fitted_max_depth+1)]\n",
    "                , 'criterion' : ['entropy', 'gini']}]\n",
    "\n",
    "scores = ['accuracy'\n",
    "        , 'precision_macro'\n",
    "        , 'recall_macro'\n",
    "        , 'f1_macro']"
   ]
  },
  {
   "cell_type": "markdown",
   "metadata": {
    "slideshow": {
     "slide_type": "slide"
    }
   },
   "source": [
    "### Loop on scores\n",
    "- iterate varying the score function\n",
    "    - fit the estimator using the training data and Cross Validation with `GridSearchCV(estimator, parameters, cv_folds)`\n",
    "        - the resulting model will be the best one according to the current score function\n",
    "    - print the best estimator\n",
    "    - print the best parameter set and the results for each set of parameters using the above defined function\n",
    "    - predict the target for the test set using the `.predict` method\n",
    "    - print the classification report\n",
    "    - display the confusion matrix with `ConfusionMatrixDisplay`"
   ]
  },
  {
   "cell_type": "code",
   "execution_count": null,
   "metadata": {
    "scrolled": true,
    "slideshow": {
     "slide_type": "fragment"
    }
   },
   "outputs": [],
   "source": [
    "\n"
   ]
  },
  {
   "cell_type": "code",
   "execution_count": 114,
   "metadata": {},
   "outputs": [
    {
     "name": "stdout",
     "output_type": "stream",
     "text": [
      "Tuning hyper-parameters for accuracy\n",
      "DecisionTreeClassifier(criterion='entropy', max_depth=2)\n",
      "Best score: 0.979\n",
      "              precision    recall  f1-score   support\n",
      "\n",
      "           0       1.00      1.00      1.00        38\n",
      "           1       0.90      0.84      0.87        32\n",
      "           2       0.85      0.90      0.88        31\n",
      "\n",
      "    accuracy                           0.92       101\n",
      "   macro avg       0.92      0.92      0.92       101\n",
      "weighted avg       0.92      0.92      0.92       101\n",
      "\n",
      "Tuning hyper-parameters for precision_macro\n",
      "DecisionTreeClassifier(criterion='entropy', max_depth=2)\n",
      "Best score: 0.984\n",
      "              precision    recall  f1-score   support\n",
      "\n",
      "           0       1.00      1.00      1.00        38\n",
      "           1       0.90      0.84      0.87        32\n",
      "           2       0.85      0.90      0.88        31\n",
      "\n",
      "    accuracy                           0.92       101\n",
      "   macro avg       0.92      0.92      0.92       101\n",
      "weighted avg       0.92      0.92      0.92       101\n",
      "\n",
      "Tuning hyper-parameters for recall_macro\n",
      "DecisionTreeClassifier(criterion='entropy', max_depth=2)\n",
      "Best score: 0.981\n",
      "              precision    recall  f1-score   support\n",
      "\n",
      "           0       1.00      1.00      1.00        38\n",
      "           1       0.90      0.84      0.87        32\n",
      "           2       0.85      0.90      0.88        31\n",
      "\n",
      "    accuracy                           0.92       101\n",
      "   macro avg       0.92      0.92      0.92       101\n",
      "weighted avg       0.92      0.92      0.92       101\n",
      "\n",
      "Tuning hyper-parameters for f1_macro\n",
      "DecisionTreeClassifier(criterion='entropy', max_depth=2)\n",
      "Best score: 0.981\n",
      "              precision    recall  f1-score   support\n",
      "\n",
      "           0       1.00      1.00      1.00        38\n",
      "           1       0.90      0.84      0.87        32\n",
      "           2       0.85      0.90      0.88        31\n",
      "\n",
      "    accuracy                           0.92       101\n",
      "   macro avg       0.92      0.92      0.92       101\n",
      "weighted avg       0.92      0.92      0.92       101\n",
      "\n"
     ]
    },
    {
     "data": {
      "image/png": "[encoded data removed]",
      "text/plain": [
       "<Figure size 640x480 with 2 Axes>"
      ]
     },
     "metadata": {},
     "output_type": "display_data"
    },
    {
     "data": {
      "image/png": "[encoded data removed]",
      "text/plain": [
       "<Figure size 640x480 with 2 Axes>"
      ]
     },
     "metadata": {},
     "output_type": "display_data"
    },
    {
     "data": {
      "image/png": "[encoded data removed]",
      "text/plain": [
       "<Figure size 640x480 with 2 Axes>"
      ]
     },
     "metadata": {},
     "output_type": "display_data"
    },
    {
     "data": {
      "image/png": "[encoded data removed]",
      "text/plain": [
       "<Figure size 640x480 with 2 Axes>"
      ]
     },
     "metadata": {},
     "output_type": "display_data"
    }
   ],
   "source": [
    "for score in scores:\n",
    "    print(f\"Tuning hyper-parameters for {score}\")\n",
    "\n",
    "    gs = GridSearchCV(estimator=model, param_grid=tuned_param_dt, cv=n_splits, scoring=score)\n",
    "    gs.fit(X_train, y_train)\n",
    "\n",
    "    print(gs.best_estimator_)\n",
    "\n",
    "    best_score = gs.best_score_\n",
    "    print(f\"Best score: {best_score:.3f}\")\n",
    "\n",
    "    y_p = gs.best_estimator_.predict(X_test)\n",
    "    print(classification_report(y_test, y_p))\n",
    "\n",
    "    cm = confusion_matrix(y_test, y_p, labels=gs.best_estimator_.classes_, normalize='true')\n",
    "    disp = ConfusionMatrixDisplay(cm, display_labels=gs.classes_)\n",
    "    disp.plot()\n"
   ]
  }
 ],
 "metadata": {
  "celltoolbar": "Slideshow",
  "kernelspec": {
   "display_name": "Python 3.7.13 ('res')",
   "language": "python",
   "name": "python3"
  },
  "language_info": {
   "codemirror_mode": {
    "name": "ipython",
    "version": 3
   },
   "file_extension": ".py",
   "mimetype": "text/x-python",
   "name": "python",
   "nbconvert_exporter": "python",
   "pygments_lexer": "ipython3",
   "version": "3.11.5"
  },
  "vscode": {
   "interpreter": {
    "hash": "7650257707f3238d5df88771c66da47b78c5077cb779498608c81dcf9deec5b5"
   }
  }
 },
 "nbformat": 4,
 "nbformat_minor": 2
}
